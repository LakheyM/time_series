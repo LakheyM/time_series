{
 "cells": [
  {
   "cell_type": "code",
   "execution_count": 1,
   "metadata": {
    "collapsed": true
   },
   "outputs": [],
   "source": [
    "#Multivaiate.py\n",
    "# Load lending club stastitcs full data from :\n",
    "#https://github.com/Thinkful-Ed/curric-data-001-data-sets/blob/master/loans/loansData.csv\n",
    "#Use income (annual_inc) to model interest rates (int_rate)\n",
    "#Add home ownership (home_ownership) to the model\n",
    "#Does that affect the significance of the coefficients in the original model?\n",
    "#Try to add the interaction of home ownership and incomes as a term. How does this impact the new model?\n",
    "#helpful examples from\n",
    "#http://nbviewer.jupyter.org/urls/s3.amazonaws.com/datarobotblog/notebooks/multiple_regression_in_python.ipynb#appendix"
   ]
  },
  {
   "cell_type": "code",
   "execution_count": 2,
   "metadata": {
    "collapsed": true
   },
   "outputs": [],
   "source": [
    "#all imports\n",
    "import pandas as pd\n",
    "import matplotlib.pyplot as plt\n",
    "import statsmodels.api as sm"
   ]
  },
  {
   "cell_type": "code",
   "execution_count": 3,
   "metadata": {
    "collapsed": false,
    "scrolled": true
   },
   "outputs": [
    {
     "name": "stdout",
     "output_type": "stream",
     "text": [
      "       Amount.Requested  Amount.Funded.By.Investors Interest.Rate Loan.Length  \\\n",
      "81174             20000                     20000.0         8.90%   36 months   \n",
      "99592             19200                     19200.0        12.12%   36 months   \n",
      "80059             35000                     35000.0        21.98%   60 months   \n",
      "15825             10000                      9975.0         9.99%   36 months   \n",
      "33182             12000                     12000.0        11.71%   36 months   \n",
      "\n",
      "             Loan.Purpose Debt.To.Income.Ratio State Home.Ownership  \\\n",
      "81174  debt_consolidation               14.90%    SC       MORTGAGE   \n",
      "99592  debt_consolidation               28.36%    TX       MORTGAGE   \n",
      "80059  debt_consolidation               23.81%    CA       MORTGAGE   \n",
      "15825  debt_consolidation               14.30%    KS       MORTGAGE   \n",
      "33182         credit_card               18.78%    NJ           RENT   \n",
      "\n",
      "       Monthly.Income FICO.Range  Open.CREDIT.Lines  Revolving.CREDIT.Balance  \\\n",
      "81174         6541.67    735-739               14.0                   14272.0   \n",
      "99592         4583.33    715-719               12.0                   11140.0   \n",
      "80059        11500.00    690-694               14.0                   21977.0   \n",
      "15825         3833.33    695-699               10.0                    9346.0   \n",
      "33182         3195.00    695-699               11.0                   14469.0   \n",
      "\n",
      "       Inquiries.in.the.Last.6.Months Employment.Length  \n",
      "81174                             2.0          < 1 year  \n",
      "99592                             1.0           2 years  \n",
      "80059                             1.0           2 years  \n",
      "15825                             0.0           5 years  \n",
      "33182                             0.0           9 years  \n"
     ]
    }
   ],
   "source": [
    "#loading data\n",
    "loansData = pd.read_csv('https://raw.githubusercontent.com/Thinkful-Ed/curric-data-001-data-sets/master/loans/loansData.csv')\n",
    "loansData.dropna(inplace=True)\n",
    "print(loansData.head())"
   ]
  },
  {
   "cell_type": "code",
   "execution_count": 4,
   "metadata": {
    "collapsed": false
   },
   "outputs": [
    {
     "data": {
      "text/plain": [
       "81174     78500.04\n",
       "99592     54999.96\n",
       "80059    138000.00\n",
       "15825     45999.96\n",
       "33182     38340.00\n",
       "Name: annual_inc, dtype: float64"
      ]
     },
     "execution_count": 4,
     "metadata": {},
     "output_type": "execute_result"
    }
   ],
   "source": [
    "#converting monthly to annula as mentioned in the project\n",
    "loansData['annual_inc']=loansData['Monthly.Income'].map(lambda x: x*12)\n",
    "loansData['annual_inc'].head()"
   ]
  },
  {
   "cell_type": "code",
   "execution_count": 5,
   "metadata": {
    "collapsed": false
   },
   "outputs": [
    {
     "data": {
      "text/plain": [
       "81174    0.0890\n",
       "99592    0.1212\n",
       "80059    0.2198\n",
       "15825    0.0999\n",
       "33182    0.1171\n",
       "Name: int_rate, dtype: float64"
      ]
     },
     "execution_count": 5,
     "metadata": {},
     "output_type": "execute_result"
    }
   ],
   "source": [
    "#Reshaping data - convering string to float\n",
    "loansData['int_rate']=loansData['Interest.Rate'].map(lambda x: round(float(x.rstrip('%'))/100, 4))\n",
    "loansData['int_rate'].head()"
   ]
  },
  {
   "cell_type": "code",
   "execution_count": 6,
   "metadata": {
    "collapsed": false
   },
   "outputs": [
    {
     "name": "stdout",
     "output_type": "stream",
     "text": [
      "81174     78500.04\n",
      "99592     54999.96\n",
      "80059    138000.00\n",
      "15825     45999.96\n",
      "33182     38340.00\n",
      "Name: annual_inc, dtype: float64\n"
     ]
    }
   ],
   "source": [
    "#creating variables to fit into model\n",
    "x1=[]\n",
    "x1=loansData['annual_inc']\n",
    "print(x1[0:5])"
   ]
  },
  {
   "cell_type": "code",
   "execution_count": 7,
   "metadata": {
    "collapsed": false
   },
   "outputs": [
    {
     "name": "stdout",
     "output_type": "stream",
     "text": [
      "                            OLS Regression Results                            \n",
      "==============================================================================\n",
      "Dep. Variable:               int_rate   R-squared:                       0.000\n",
      "Model:                            OLS   Adj. R-squared:                 -0.000\n",
      "Method:                 Least Squares   F-statistic:                    0.4168\n",
      "Date:                Fri, 23 Dec 2016   Prob (F-statistic):              0.519\n",
      "Time:                        00:46:16   Log-Likelihood:                 4388.2\n",
      "No. Observations:                2498   AIC:                            -8772.\n",
      "Df Residuals:                    2496   BIC:                            -8761.\n",
      "Df Model:                           1                                         \n",
      "Covariance Type:            nonrobust                                         \n",
      "==============================================================================\n",
      "                 coef    std err          t      P>|t|      [95.0% Conf. Int.]\n",
      "------------------------------------------------------------------------------\n",
      "const          0.1299      0.001     88.807      0.000         0.127     0.133\n",
      "annual_inc  1.136e-08   1.76e-08      0.646      0.519     -2.31e-08  4.59e-08\n",
      "==============================================================================\n",
      "Omnibus:                       69.741   Durbin-Watson:                   1.989\n",
      "Prob(Omnibus):                  0.000   Jarque-Bera (JB):               54.034\n",
      "Skew:                           0.273   Prob(JB):                     1.85e-12\n",
      "Kurtosis:                       2.530   Cond. No.                     1.45e+05\n",
      "==============================================================================\n",
      "\n",
      "Warnings:\n",
      "[1] Standard Errors assume that the covariance matrix of the errors is correctly specified.\n",
      "[2] The condition number is large, 1.45e+05. This might indicate that there are\n",
      "strong multicollinearity or other numerical problems.\n"
     ]
    }
   ],
   "source": [
    "#fitting the model\n",
    "y=[]\n",
    "y=loansData['int_rate']\n",
    "X = sm.add_constant(x1)\n",
    "model=sm.OLS(y, X)\n",
    "f=model.fit()\n",
    "print(f.summary())"
   ]
  },
  {
   "cell_type": "code",
   "execution_count": 8,
   "metadata": {
    "collapsed": false
   },
   "outputs": [
    {
     "data": {
      "text/plain": [
       "81174    1.0\n",
       "99592    1.0\n",
       "80059    1.0\n",
       "15825    1.0\n",
       "33182    1.0\n",
       "Name: intercept, dtype: float64"
      ]
     },
     "execution_count": 8,
     "metadata": {},
     "output_type": "execute_result"
    }
   ],
   "source": [
    "#?Scales for int rate and for annual income are wide apart probably --- Do we need to change the scales or model\n",
    "#ie use log reduction instead\n",
    "#try second method explicitly giving all indep vars including intercept\n",
    "\n",
    "#creting an intercept\n",
    "loansData['intercept']=float(1.0)\n",
    "i=[]\n",
    "i = loansData['intercept']\n",
    "i.head()\n",
    "#\n"
   ]
  },
  {
   "cell_type": "code",
   "execution_count": 9,
   "metadata": {
    "collapsed": false,
    "scrolled": true
   },
   "outputs": [
    {
     "name": "stdout",
     "output_type": "stream",
     "text": [
      "                            OLS Regression Results                            \n",
      "==============================================================================\n",
      "Dep. Variable:               int_rate   R-squared:                       0.000\n",
      "Model:                            OLS   Adj. R-squared:                 -0.000\n",
      "Method:                 Least Squares   F-statistic:                    0.4168\n",
      "Date:                Fri, 23 Dec 2016   Prob (F-statistic):              0.519\n",
      "Time:                        00:46:16   Log-Likelihood:                 4388.2\n",
      "No. Observations:                2498   AIC:                            -8772.\n",
      "Df Residuals:                    2496   BIC:                            -8761.\n",
      "Df Model:                           1                                         \n",
      "Covariance Type:            nonrobust                                         \n",
      "==============================================================================\n",
      "                 coef    std err          t      P>|t|      [95.0% Conf. Int.]\n",
      "------------------------------------------------------------------------------\n",
      "intercept      0.1299      0.001     88.807      0.000         0.127     0.133\n",
      "annual_inc  1.136e-08   1.76e-08      0.646      0.519     -2.31e-08  4.59e-08\n",
      "==============================================================================\n",
      "Omnibus:                       69.741   Durbin-Watson:                   1.989\n",
      "Prob(Omnibus):                  0.000   Jarque-Bera (JB):               54.034\n",
      "Skew:                           0.273   Prob(JB):                     1.85e-12\n",
      "Kurtosis:                       2.530   Cond. No.                     1.45e+05\n",
      "==============================================================================\n",
      "\n",
      "Warnings:\n",
      "[1] Standard Errors assume that the covariance matrix of the errors is correctly specified.\n",
      "[2] The condition number is large, 1.45e+05. This might indicate that there are\n",
      "strong multicollinearity or other numerical problems.\n"
     ]
    }
   ],
   "source": [
    "model = sm.OLS(y,loansData[['intercept', 'annual_inc']])\n",
    "result1 = model.fit()\n",
    "print (result1.summary())\n",
    "#both gives the same result"
   ]
  },
  {
   "cell_type": "code",
   "execution_count": 10,
   "metadata": {
    "collapsed": false
   },
   "outputs": [
    {
     "name": "stderr",
     "output_type": "stream",
     "text": [
      "C:\\Users\\Mnsh\\Anaconda3\\lib\\site-packages\\ipykernel\\__main__.py:5: FutureWarning: 'labels' is deprecated. Use 'codes' instead\n"
     ]
    },
    {
     "data": {
      "text/plain": [
       "(81174     0\n",
       " 99592     0\n",
       " 80059     0\n",
       " 15825     0\n",
       " 33182     3\n",
       " 62403     2\n",
       " 48808     3\n",
       " 22090     0\n",
       " 76404     3\n",
       " 15867     3\n",
       " 94971     3\n",
       " 36911     0\n",
       " 41200     0\n",
       " 83869     3\n",
       " 53853     3\n",
       " 21399     3\n",
       " 62127     3\n",
       " 23446     3\n",
       " 44987     3\n",
       " 17977     0\n",
       " 86099     0\n",
       " 99483     0\n",
       " 28798     3\n",
       " 24168     3\n",
       " 10356     0\n",
       " 46027     3\n",
       " 2238      3\n",
       " 65278     0\n",
       " 4227      0\n",
       " 50182     0\n",
       "          ..\n",
       " 84265     3\n",
       " 80231     0\n",
       " 49533     0\n",
       " 102514    0\n",
       " 78618     3\n",
       " 86953     3\n",
       " 80129     0\n",
       " 85216     0\n",
       " 38247     0\n",
       " 91245     0\n",
       " 53041     3\n",
       " 63051     0\n",
       " 14446     0\n",
       " 68628     0\n",
       " 98758     0\n",
       " 13070     0\n",
       " 45836     2\n",
       " 52330     3\n",
       " 48243     3\n",
       " 63256     3\n",
       " 42124     3\n",
       " 78043     3\n",
       " 925       0\n",
       " 74047     0\n",
       " 49957     0\n",
       " 23735     0\n",
       " 65882     2\n",
       " 55610     0\n",
       " 38576     3\n",
       " 3116      3\n",
       " Name: ho_ord, dtype: int8, 81174     MORTGAGE\n",
       " 99592     MORTGAGE\n",
       " 80059     MORTGAGE\n",
       " 15825     MORTGAGE\n",
       " 33182         RENT\n",
       " 62403          OWN\n",
       " 48808         RENT\n",
       " 22090     MORTGAGE\n",
       " 76404         RENT\n",
       " 15867         RENT\n",
       " 94971         RENT\n",
       " 36911     MORTGAGE\n",
       " 41200     MORTGAGE\n",
       " 83869         RENT\n",
       " 53853         RENT\n",
       " 21399         RENT\n",
       " 62127         RENT\n",
       " 23446         RENT\n",
       " 44987         RENT\n",
       " 17977     MORTGAGE\n",
       " 86099     MORTGAGE\n",
       " 99483     MORTGAGE\n",
       " 28798         RENT\n",
       " 24168         RENT\n",
       " 10356     MORTGAGE\n",
       " 46027         RENT\n",
       " 2238          RENT\n",
       " 65278     MORTGAGE\n",
       " 4227      MORTGAGE\n",
       " 50182     MORTGAGE\n",
       "             ...   \n",
       " 84265         RENT\n",
       " 80231     MORTGAGE\n",
       " 49533     MORTGAGE\n",
       " 102514    MORTGAGE\n",
       " 78618         RENT\n",
       " 86953         RENT\n",
       " 80129     MORTGAGE\n",
       " 85216     MORTGAGE\n",
       " 38247     MORTGAGE\n",
       " 91245     MORTGAGE\n",
       " 53041         RENT\n",
       " 63051     MORTGAGE\n",
       " 14446     MORTGAGE\n",
       " 68628     MORTGAGE\n",
       " 98758     MORTGAGE\n",
       " 13070     MORTGAGE\n",
       " 45836          OWN\n",
       " 52330         RENT\n",
       " 48243         RENT\n",
       " 63256         RENT\n",
       " 42124         RENT\n",
       " 78043         RENT\n",
       " 925       MORTGAGE\n",
       " 74047     MORTGAGE\n",
       " 49957     MORTGAGE\n",
       " 23735     MORTGAGE\n",
       " 65882          OWN\n",
       " 55610     MORTGAGE\n",
       " 38576         RENT\n",
       " 3116          RENT\n",
       " Name: Home.Ownership, dtype: object)"
      ]
     },
     "execution_count": 10,
     "metadata": {},
     "output_type": "execute_result"
    }
   ],
   "source": [
    "#now add home ownership to the model\n",
    "#first conver the categorical var \n",
    "#dummify vs pd.categorical\n",
    "\n",
    "loansData['ho_ord']=pd.Categorical(loansData['Home.Ownership']).labels\n",
    "loansData.ho_ord, loansData['Home.Ownership']\n",
    "\n",
    "#The above gives warning message hence using new method\n",
    "#loansData['ho_ord']=pd.Categorical(loansData['Home.Ownership'], categories=['MORTGAGE', 'RENT', 'OWN'], ordered=False)\n",
    "#new method not working, categorical prints only 0, 2, 3  perhaps something else is labeled 1\n"
   ]
  },
  {
   "cell_type": "code",
   "execution_count": 11,
   "metadata": {
    "collapsed": false
   },
   "outputs": [
    {
     "data": {
      "text/html": [
       "<table class=\"simpletable\">\n",
       "<caption>OLS Regression Results</caption>\n",
       "<tr>\n",
       "  <th>Dep. Variable:</th>        <td>int_rate</td>     <th>  R-squared:         </th> <td>   0.007</td>\n",
       "</tr>\n",
       "<tr>\n",
       "  <th>Model:</th>                   <td>OLS</td>       <th>  Adj. R-squared:    </th> <td>   0.006</td>\n",
       "</tr>\n",
       "<tr>\n",
       "  <th>Method:</th>             <td>Least Squares</td>  <th>  F-statistic:       </th> <td>   8.274</td>\n",
       "</tr>\n",
       "<tr>\n",
       "  <th>Date:</th>             <td>Fri, 23 Dec 2016</td> <th>  Prob (F-statistic):</th> <td>0.000262</td>\n",
       "</tr>\n",
       "<tr>\n",
       "  <th>Time:</th>                 <td>00:46:16</td>     <th>  Log-Likelihood:    </th> <td>  4396.2</td>\n",
       "</tr>\n",
       "<tr>\n",
       "  <th>No. Observations:</th>      <td>  2498</td>      <th>  AIC:               </th> <td>  -8786.</td>\n",
       "</tr>\n",
       "<tr>\n",
       "  <th>Df Residuals:</th>          <td>  2495</td>      <th>  BIC:               </th> <td>  -8769.</td>\n",
       "</tr>\n",
       "<tr>\n",
       "  <th>Df Model:</th>              <td>     2</td>      <th>                     </th>     <td> </td>   \n",
       "</tr>\n",
       "<tr>\n",
       "  <th>Covariance Type:</th>      <td>nonrobust</td>    <th>                     </th>     <td> </td>   \n",
       "</tr>\n",
       "</table>\n",
       "<table class=\"simpletable\">\n",
       "<tr>\n",
       "       <td></td>         <th>coef</th>     <th>std err</th>      <th>t</th>      <th>P>|t|</th> <th>[95.0% Conf. Int.]</th> \n",
       "</tr>\n",
       "<tr>\n",
       "  <th>intercept</th>  <td>    0.1252</td> <td>    0.002</td> <td>   66.918</td> <td> 0.000</td> <td>    0.122     0.129</td>\n",
       "</tr>\n",
       "<tr>\n",
       "  <th>annual_inc</th> <td> 2.687e-08</td> <td>  1.8e-08</td> <td>    1.496</td> <td> 0.135</td> <td>-8.36e-09  6.21e-08</td>\n",
       "</tr>\n",
       "<tr>\n",
       "  <th>ho_ord</th>     <td>    0.0024</td> <td>    0.001</td> <td>    4.016</td> <td> 0.000</td> <td>    0.001     0.004</td>\n",
       "</tr>\n",
       "</table>\n",
       "<table class=\"simpletable\">\n",
       "<tr>\n",
       "  <th>Omnibus:</th>       <td>67.032</td> <th>  Durbin-Watson:     </th> <td>   1.990</td>\n",
       "</tr>\n",
       "<tr>\n",
       "  <th>Prob(Omnibus):</th> <td> 0.000</td> <th>  Jarque-Bera (JB):  </th> <td>  53.954</td>\n",
       "</tr>\n",
       "<tr>\n",
       "  <th>Skew:</th>          <td> 0.281</td> <th>  Prob(JB):          </th> <td>1.92e-12</td>\n",
       "</tr>\n",
       "<tr>\n",
       "  <th>Kurtosis:</th>      <td> 2.550</td> <th>  Cond. No.          </th> <td>1.90e+05</td>\n",
       "</tr>\n",
       "</table>"
      ],
      "text/plain": [
       "<class 'statsmodels.iolib.summary.Summary'>\n",
       "\"\"\"\n",
       "                            OLS Regression Results                            \n",
       "==============================================================================\n",
       "Dep. Variable:               int_rate   R-squared:                       0.007\n",
       "Model:                            OLS   Adj. R-squared:                  0.006\n",
       "Method:                 Least Squares   F-statistic:                     8.274\n",
       "Date:                Fri, 23 Dec 2016   Prob (F-statistic):           0.000262\n",
       "Time:                        00:46:16   Log-Likelihood:                 4396.2\n",
       "No. Observations:                2498   AIC:                            -8786.\n",
       "Df Residuals:                    2495   BIC:                            -8769.\n",
       "Df Model:                           2                                         \n",
       "Covariance Type:            nonrobust                                         \n",
       "==============================================================================\n",
       "                 coef    std err          t      P>|t|      [95.0% Conf. Int.]\n",
       "------------------------------------------------------------------------------\n",
       "intercept      0.1252      0.002     66.918      0.000         0.122     0.129\n",
       "annual_inc  2.687e-08    1.8e-08      1.496      0.135     -8.36e-09  6.21e-08\n",
       "ho_ord         0.0024      0.001      4.016      0.000         0.001     0.004\n",
       "==============================================================================\n",
       "Omnibus:                       67.032   Durbin-Watson:                   1.990\n",
       "Prob(Omnibus):                  0.000   Jarque-Bera (JB):               53.954\n",
       "Skew:                           0.281   Prob(JB):                     1.92e-12\n",
       "Kurtosis:                       2.550   Cond. No.                     1.90e+05\n",
       "==============================================================================\n",
       "\n",
       "Warnings:\n",
       "[1] Standard Errors assume that the covariance matrix of the errors is correctly specified.\n",
       "[2] The condition number is large, 1.9e+05. This might indicate that there are\n",
       "strong multicollinearity or other numerical problems.\n",
       "\"\"\""
      ]
     },
     "execution_count": 11,
     "metadata": {},
     "output_type": "execute_result"
    }
   ],
   "source": [
    "#adding home ownership pattern to the model\n",
    "model2=sm.OLS(loansData['int_rate'], loansData[['intercept', 'annual_inc', 'ho_ord']]).fit()\n",
    "model2.summary()"
   ]
  },
  {
   "cell_type": "code",
   "execution_count": 12,
   "metadata": {
    "collapsed": false
   },
   "outputs": [
    {
     "data": {
      "text/plain": [
       "81174         0.0\n",
       "99592         0.0\n",
       "80059         0.0\n",
       "15825         0.0\n",
       "33182    115020.0\n",
       "Name: interaction, dtype: float64"
      ]
     },
     "execution_count": 12,
     "metadata": {},
     "output_type": "execute_result"
    }
   ],
   "source": [
    "#working with interaction, not sure whether multiplying tow relevant variables is all that required\n",
    "loansData['interaction']=loansData['ho_ord']*loansData['annual_inc']\n",
    "loansData.interaction.head()\n",
    "\n"
   ]
  },
  {
   "cell_type": "code",
   "execution_count": 13,
   "metadata": {
    "collapsed": false
   },
   "outputs": [
    {
     "data": {
      "text/html": [
       "<table class=\"simpletable\">\n",
       "<caption>OLS Regression Results</caption>\n",
       "<tr>\n",
       "  <th>Dep. Variable:</th>        <td>int_rate</td>     <th>  R-squared:         </th> <td>   0.008</td>\n",
       "</tr>\n",
       "<tr>\n",
       "  <th>Model:</th>                   <td>OLS</td>       <th>  Adj. R-squared:    </th> <td>   0.007</td>\n",
       "</tr>\n",
       "<tr>\n",
       "  <th>Method:</th>             <td>Least Squares</td>  <th>  F-statistic:       </th> <td>   6.588</td>\n",
       "</tr>\n",
       "<tr>\n",
       "  <th>Date:</th>             <td>Fri, 23 Dec 2016</td> <th>  Prob (F-statistic):</th> <td>0.000197</td>\n",
       "</tr>\n",
       "<tr>\n",
       "  <th>Time:</th>                 <td>00:46:16</td>     <th>  Log-Likelihood:    </th> <td>  4397.8</td>\n",
       "</tr>\n",
       "<tr>\n",
       "  <th>No. Observations:</th>      <td>  2498</td>      <th>  AIC:               </th> <td>  -8788.</td>\n",
       "</tr>\n",
       "<tr>\n",
       "  <th>Df Residuals:</th>          <td>  2494</td>      <th>  BIC:               </th> <td>  -8764.</td>\n",
       "</tr>\n",
       "<tr>\n",
       "  <th>Df Model:</th>              <td>     3</td>      <th>                     </th>     <td> </td>   \n",
       "</tr>\n",
       "<tr>\n",
       "  <th>Covariance Type:</th>      <td>nonrobust</td>    <th>                     </th>     <td> </td>   \n",
       "</tr>\n",
       "</table>\n",
       "<table class=\"simpletable\">\n",
       "<tr>\n",
       "       <td></td>          <th>coef</th>     <th>std err</th>      <th>t</th>      <th>P>|t|</th> <th>[95.0% Conf. Int.]</th> \n",
       "</tr>\n",
       "<tr>\n",
       "  <th>intercept</th>   <td>    0.1267</td> <td>    0.002</td> <td>   61.802</td> <td> 0.000</td> <td>    0.123     0.131</td>\n",
       "</tr>\n",
       "<tr>\n",
       "  <th>annual_inc</th>  <td> 7.914e-09</td> <td> 2.09e-08</td> <td>    0.380</td> <td> 0.704</td> <td> -3.3e-08  4.88e-08</td>\n",
       "</tr>\n",
       "<tr>\n",
       "  <th>ho_ord</th>      <td>    0.0007</td> <td>    0.001</td> <td>    0.675</td> <td> 0.499</td> <td>   -0.001     0.003</td>\n",
       "</tr>\n",
       "<tr>\n",
       "  <th>interaction</th> <td> 2.561e-08</td> <td> 1.43e-08</td> <td>    1.789</td> <td> 0.074</td> <td>-2.47e-09  5.37e-08</td>\n",
       "</tr>\n",
       "</table>\n",
       "<table class=\"simpletable\">\n",
       "<tr>\n",
       "  <th>Omnibus:</th>       <td>66.657</td> <th>  Durbin-Watson:     </th> <td>   1.994</td>\n",
       "</tr>\n",
       "<tr>\n",
       "  <th>Prob(Omnibus):</th> <td> 0.000</td> <th>  Jarque-Bera (JB):  </th> <td>  53.272</td>\n",
       "</tr>\n",
       "<tr>\n",
       "  <th>Skew:</th>          <td> 0.277</td> <th>  Prob(JB):          </th> <td>2.70e-12</td>\n",
       "</tr>\n",
       "<tr>\n",
       "  <th>Kurtosis:</th>      <td> 2.548</td> <th>  Cond. No.          </th> <td>3.97e+05</td>\n",
       "</tr>\n",
       "</table>"
      ],
      "text/plain": [
       "<class 'statsmodels.iolib.summary.Summary'>\n",
       "\"\"\"\n",
       "                            OLS Regression Results                            \n",
       "==============================================================================\n",
       "Dep. Variable:               int_rate   R-squared:                       0.008\n",
       "Model:                            OLS   Adj. R-squared:                  0.007\n",
       "Method:                 Least Squares   F-statistic:                     6.588\n",
       "Date:                Fri, 23 Dec 2016   Prob (F-statistic):           0.000197\n",
       "Time:                        00:46:16   Log-Likelihood:                 4397.8\n",
       "No. Observations:                2498   AIC:                            -8788.\n",
       "Df Residuals:                    2494   BIC:                            -8764.\n",
       "Df Model:                           3                                         \n",
       "Covariance Type:            nonrobust                                         \n",
       "===============================================================================\n",
       "                  coef    std err          t      P>|t|      [95.0% Conf. Int.]\n",
       "-------------------------------------------------------------------------------\n",
       "intercept       0.1267      0.002     61.802      0.000         0.123     0.131\n",
       "annual_inc   7.914e-09   2.09e-08      0.380      0.704      -3.3e-08  4.88e-08\n",
       "ho_ord          0.0007      0.001      0.675      0.499        -0.001     0.003\n",
       "interaction  2.561e-08   1.43e-08      1.789      0.074     -2.47e-09  5.37e-08\n",
       "==============================================================================\n",
       "Omnibus:                       66.657   Durbin-Watson:                   1.994\n",
       "Prob(Omnibus):                  0.000   Jarque-Bera (JB):               53.272\n",
       "Skew:                           0.277   Prob(JB):                     2.70e-12\n",
       "Kurtosis:                       2.548   Cond. No.                     3.97e+05\n",
       "==============================================================================\n",
       "\n",
       "Warnings:\n",
       "[1] Standard Errors assume that the covariance matrix of the errors is correctly specified.\n",
       "[2] The condition number is large, 3.97e+05. This might indicate that there are\n",
       "strong multicollinearity or other numerical problems.\n",
       "\"\"\""
      ]
     },
     "execution_count": 13,
     "metadata": {},
     "output_type": "execute_result"
    }
   ],
   "source": [
    "#modeling with interaction\n",
    "model3=sm.OLS(loansData['int_rate'], loansData[['intercept', 'annual_inc', 'ho_ord', 'interaction']]).fit()\n",
    "model3.summary()"
   ]
  },
  {
   "cell_type": "code",
   "execution_count": 14,
   "metadata": {
    "collapsed": true
   },
   "outputs": [],
   "source": [
    "#output in form of graphs has to be worked out\n",
    "#working well"
   ]
  }
 ],
 "metadata": {
  "anaconda-cloud": {},
  "kernelspec": {
   "display_name": "Python [conda root]",
   "language": "python",
   "name": "conda-root-py"
  },
  "language_info": {
   "codemirror_mode": {
    "name": "ipython",
    "version": 3
   },
   "file_extension": ".py",
   "mimetype": "text/x-python",
   "name": "python",
   "nbconvert_exporter": "python",
   "pygments_lexer": "ipython3",
   "version": "3.5.2"
  }
 },
 "nbformat": 4,
 "nbformat_minor": 1
}
