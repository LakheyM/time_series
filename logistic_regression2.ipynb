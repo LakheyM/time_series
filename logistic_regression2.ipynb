{
 "cells": [
  {
   "cell_type": "code",
   "execution_count": null,
   "metadata": {
    "collapsed": true
   },
   "outputs": [],
   "source": []
  },
  {
   "cell_type": "code",
   "execution_count": 16,
   "metadata": {
    "collapsed": false
   },
   "outputs": [
    {
     "name": "stdout",
     "output_type": "stream",
     "text": [
      "   Amount.Requested  Amount.Funded.By.Investors  Interest.Rate Loan.Length  \\\n",
      "0           20000.0                     20000.0           0.09   36 months   \n",
      "1           19200.0                     19200.0           0.12   36 months   \n",
      "2           35000.0                     35000.0           0.22   60 months   \n",
      "3           10000.0                      9975.0           0.10   36 months   \n",
      "4           12000.0                     12000.0           0.12   36 months   \n",
      "\n",
      "         Loan.Purpose Debt.To.Income.Ratio State Home.Ownership  \\\n",
      "0  debt_consolidation               14.90%    SC       MORTGAGE   \n",
      "1  debt_consolidation               28.36%    TX       MORTGAGE   \n",
      "2  debt_consolidation               23.81%    CA       MORTGAGE   \n",
      "3  debt_consolidation               14.30%    KS       MORTGAGE   \n",
      "4         credit_card               18.78%    NJ           RENT   \n",
      "\n",
      "   Monthly.Income  FICO.Range  Open.CREDIT.Lines  Revolving.CREDIT.Balance  \\\n",
      "0         6541.67       735.0               14.0                   14272.0   \n",
      "1         4583.33       715.0               12.0                   11140.0   \n",
      "2        11500.00       690.0               14.0                   21977.0   \n",
      "3         3833.33       695.0               10.0                    9346.0   \n",
      "4         3195.00       695.0               11.0                   14469.0   \n",
      "\n",
      "   Inquiries.in.the.Last.6.Months Employment.Length  \n",
      "0                             2.0          < 1 year  \n",
      "1                             1.0           2 years  \n",
      "2                             1.0           2 years  \n",
      "3                             0.0           5 years  \n",
      "4                             0.0           9 years  \n"
     ]
    }
   ],
   "source": [
    "import pandas as pd\n",
    "from os import path\n",
    "\n",
    "#load\n",
    "\n",
    "loansData=pd.read_csv('https://raw.githubusercontent.com/LakheyM/firstdata/a916909b8cae1b10601dbb642e5e746c83b4d211/loansData_clean.csv')\n",
    "#loansData=pd.read_csv('C:\\\\Users\\\\Mnsh\\\\Projects\\\\loansData_clean.csv')\n",
    "\n",
    "print (loansData.head())"
   ]
  },
  {
   "cell_type": "code",
   "execution_count": 17,
   "metadata": {
    "collapsed": false
   },
   "outputs": [
    {
     "data": {
      "text/html": [
       "<div>\n",
       "<table border=\"1\" class=\"dataframe\">\n",
       "  <thead>\n",
       "    <tr style=\"text-align: right;\">\n",
       "      <th></th>\n",
       "      <th>IR_TF</th>\n",
       "      <th>Interest.Rate</th>\n",
       "    </tr>\n",
       "  </thead>\n",
       "  <tbody>\n",
       "    <tr>\n",
       "      <th>0</th>\n",
       "      <td>1</td>\n",
       "      <td>0.09</td>\n",
       "    </tr>\n",
       "    <tr>\n",
       "      <th>1</th>\n",
       "      <td>0</td>\n",
       "      <td>0.12</td>\n",
       "    </tr>\n",
       "    <tr>\n",
       "      <th>2</th>\n",
       "      <td>0</td>\n",
       "      <td>0.22</td>\n",
       "    </tr>\n",
       "    <tr>\n",
       "      <th>3</th>\n",
       "      <td>1</td>\n",
       "      <td>0.10</td>\n",
       "    </tr>\n",
       "    <tr>\n",
       "      <th>4</th>\n",
       "      <td>0</td>\n",
       "      <td>0.12</td>\n",
       "    </tr>\n",
       "  </tbody>\n",
       "</table>\n",
       "</div>"
      ],
      "text/plain": [
       "   IR_TF  Interest.Rate\n",
       "0      1           0.09\n",
       "1      0           0.12\n",
       "2      0           0.22\n",
       "3      1           0.10\n",
       "4      0           0.12"
      ]
     },
     "execution_count": 17,
     "metadata": {},
     "output_type": "execute_result"
    }
   ],
   "source": [
    "import statsmodels.api as sm\n",
    "\n",
    "\n",
    "#create a new column reshaping the data as required\n",
    "loansData['IR_TF']=loansData['Interest.Rate'].map(lambda x: 0 if x < .12 else 1)\n",
    "loansData.ix[:,['IR_TF', 'Interest.Rate']].head()  #coeffs came with signs reversed so had to look back and correct\n",
    "loansData['IR_TF'] = loansData['IR_TF'].map(lambda x: 0 if x > 0 else 1)#coeffs came with signs reversed so due to IR_TF\n",
    "loansData.ix[:,['IR_TF', 'Interest.Rate']].head()\n",
    "\n"
   ]
  },
  {
   "cell_type": "code",
   "execution_count": 18,
   "metadata": {
    "collapsed": false
   },
   "outputs": [
    {
     "data": {
      "text/plain": [
       "0    1\n",
       "1    1\n",
       "2    1\n",
       "3    1\n",
       "4    1\n",
       "Name: const, dtype: int64"
      ]
     },
     "execution_count": 18,
     "metadata": {},
     "output_type": "execute_result"
    }
   ],
   "source": [
    "loansData['const']=loansData['Interest.Rate'].map(lambda x: 1)\n",
    "loansData.const.head()"
   ]
  },
  {
   "cell_type": "code",
   "execution_count": 19,
   "metadata": {
    "collapsed": false
   },
   "outputs": [
    {
     "data": {
      "text/html": [
       "<div>\n",
       "<table border=\"1\" class=\"dataframe\">\n",
       "  <thead>\n",
       "    <tr style=\"text-align: right;\">\n",
       "      <th></th>\n",
       "      <th>const</th>\n",
       "      <th>FICO.Range</th>\n",
       "      <th>Amount.Requested</th>\n",
       "    </tr>\n",
       "  </thead>\n",
       "  <tbody>\n",
       "    <tr>\n",
       "      <th>0</th>\n",
       "      <td>1</td>\n",
       "      <td>735.0</td>\n",
       "      <td>20000.0</td>\n",
       "    </tr>\n",
       "    <tr>\n",
       "      <th>1</th>\n",
       "      <td>1</td>\n",
       "      <td>715.0</td>\n",
       "      <td>19200.0</td>\n",
       "    </tr>\n",
       "    <tr>\n",
       "      <th>2</th>\n",
       "      <td>1</td>\n",
       "      <td>690.0</td>\n",
       "      <td>35000.0</td>\n",
       "    </tr>\n",
       "    <tr>\n",
       "      <th>3</th>\n",
       "      <td>1</td>\n",
       "      <td>695.0</td>\n",
       "      <td>10000.0</td>\n",
       "    </tr>\n",
       "    <tr>\n",
       "      <th>4</th>\n",
       "      <td>1</td>\n",
       "      <td>695.0</td>\n",
       "      <td>12000.0</td>\n",
       "    </tr>\n",
       "  </tbody>\n",
       "</table>\n",
       "</div>"
      ],
      "text/plain": [
       "   const  FICO.Range  Amount.Requested\n",
       "0      1       735.0           20000.0\n",
       "1      1       715.0           19200.0\n",
       "2      1       690.0           35000.0\n",
       "3      1       695.0           10000.0\n",
       "4      1       695.0           12000.0"
      ]
     },
     "execution_count": 19,
     "metadata": {},
     "output_type": "execute_result"
    }
   ],
   "source": [
    "#list of indep vars\n",
    "ind_vars = ['const', 'FICO.Range','Amount.Requested' ]\n",
    "loansData[ind_vars].head()"
   ]
  },
  {
   "cell_type": "code",
   "execution_count": 20,
   "metadata": {
    "collapsed": false
   },
   "outputs": [],
   "source": [
    "#fitting logit model\n",
    "logit = sm.Logit(loansData['IR_TF'], loansData[ind_vars])  #OR sm.Logit(y, X)  - where y = dep var and x is indep var"
   ]
  },
  {
   "cell_type": "code",
   "execution_count": 21,
   "metadata": {
    "collapsed": false
   },
   "outputs": [
    {
     "name": "stdout",
     "output_type": "stream",
     "text": [
      "Optimization terminated successfully.\n",
      "         Current function value: 0.316107\n",
      "         Iterations 8\n",
      "const              -57.497954\n",
      "FICO.Range           0.083199\n",
      "Amount.Requested    -0.000172\n",
      "dtype: float64\n",
      "Coeff at index 0 is:  -57.4979541415\n"
     ]
    }
   ],
   "source": [
    "result = logit.fit()\n",
    "coeff = result.params\n",
    "print(coeff)\n",
    "print(\"Coeff at index 0 is: \", coeff[0])"
   ]
  },
  {
   "cell_type": "code",
   "execution_count": 22,
   "metadata": {
    "collapsed": true
   },
   "outputs": [],
   "source": [
    "#interest_rate = −57.49 + 0.0831(FicoScore) − 0.000172(LoanAmount)\n",
    "interest_rate = 57.49 "
   ]
  },
  {
   "cell_type": "code",
   "execution_count": 23,
   "metadata": {
    "collapsed": true
   },
   "outputs": [],
   "source": [
    "#Now dependant var Int_rate can be expressed in terms of log function with above coeff\n",
    "#Need to bring it back to linear for to get probability\n",
    "#Finally interpret the according the set threshold level whether someone gets loan or not\n"
   ]
  },
  {
   "cell_type": "code",
   "execution_count": 24,
   "metadata": {
    "collapsed": false
   },
   "outputs": [
    {
     "name": "stdout",
     "output_type": "stream",
     "text": [
      "0.682613505095\n"
     ]
    }
   ],
   "source": [
    "#define a function to dep var y(interate_rate), so that any value can be passed on as arguments to get specific P\n",
    "# interest_rate = −60.125 + 0.087423(FicoScore) − 0.000174(LoanAmount)\n",
    "# p(x) = 1/(1 + e^(intercept + 0.087423(FicoScore) − 0.000174(LoanAmount))\n",
    "#p(x) = 1/(1 + e^(x))   whre x = interest_rate\n",
    "#linear part of predictor\n",
    "\n",
    "def ir_calc(FicoScore, LoanAmount):\n",
    "    x=coeff[0] + coeff[1]*FicoScore + coeff[2]*LoanAmount\n",
    "    return x\n",
    "print (ir_calc(720, 10000))"
   ]
  },
  {
   "cell_type": "code",
   "execution_count": 25,
   "metadata": {
    "collapsed": false
   },
   "outputs": [
    {
     "name": "stdout",
     "output_type": "stream",
     "text": [
      "0.3358150695976666\n"
     ]
    }
   ],
   "source": [
    "#calculate probability given the interest rate\n",
    "# p(x) = 1/(1 + e^(intercept + 0.087423(FicoScore) − 0.000174(LoanAmount))\n",
    "\n",
    "import math\n",
    "def logistic_function(x):\n",
    "    return 1/(1+math.exp(x))\n",
    "\n",
    "print(logistic_function(.682))\n",
    "    "
   ]
  },
  {
   "cell_type": "code",
   "execution_count": 26,
   "metadata": {
    "collapsed": true
   },
   "outputs": [],
   "source": [
    "#Someone is not eligible for loan of 10000 if he/she has FICO score of 720 keeping theshold for loan sacntion at 0.7"
   ]
  },
  {
   "cell_type": "code",
   "execution_count": 27,
   "metadata": {
    "collapsed": false
   },
   "outputs": [],
   "source": [
    "#plotting the graph\n",
    "#keep Loan amount fixed at $ 100000\n",
    "#range for FICO score is 500 ot 1000\n",
    "#Plot for probaility (logit fxn) against linear form of int_rest\n",
    "#FICO range is taken fron 550 to 950 ie 400 items are iterated\n",
    "#Make a list of px distribution and plot againt equal no of items corresponding to FICO range\n",
    "\n",
    "def ir_prob_finder(x):\n",
    "    lin_ir_list =[]\n",
    "    x=500\n",
    "    for i in range (400):\n",
    "        lin_ir_list.append(logistic_function(ir_calc(x, 10000))) #probably appended in reverse order\n",
    "        #lin_ir_list.append(ir_calc(x, 10000))  creates a list of int_rest values to be passed on to logistic_fxn\n",
    "        x +=1\n",
    "    #print(lin_ir_list)\n",
    "    return lin_ir_list\n",
    "prob_list=[]\n",
    "prob_list=ir_prob_finder(500) #reversing the order of list\n",
    "prob_list=prob_list[::-1]\n",
    "#print(prob_list)\n",
    "\n"
   ]
  },
  {
   "cell_type": "code",
   "execution_count": 28,
   "metadata": {
    "collapsed": false
   },
   "outputs": [
    {
     "name": "stdout",
     "output_type": "stream",
     "text": [
      "[0, 0, 0, 0, 0, 0, 0, 0, 0, 0, 0, 0, 0, 0, 0, 0, 0, 0, 0, 0, 0, 0, 0, 0, 0, 0, 0, 0, 0, 0, 0, 0, 0, 0, 0, 0, 0, 0, 0, 0, 0, 0, 0, 0, 0, 0, 0, 0, 0, 0, 0, 0, 0, 0, 0, 0, 0, 0, 0, 0, 0, 0, 0, 0, 0, 0, 0, 0, 0, 0, 0, 0, 0, 0, 0, 0, 0, 0, 0, 0, 0, 0, 0, 0, 0, 0, 0, 0, 0, 0, 0, 0, 0, 0, 0, 0, 0, 0, 0, 0, 0, 0, 0, 0, 0, 0, 0, 0, 0, 0, 0, 0, 0, 0, 0, 0, 0, 0, 0, 0, 0, 0, 0, 0, 0, 0, 0, 0, 0, 0, 0, 0, 0, 0, 0, 0, 0, 0, 0, 0, 0, 0, 0, 0, 0, 0, 0, 0, 0, 0, 0, 0, 0, 0, 0, 0, 0, 0, 0, 0, 0, 0, 0, 0, 0, 0, 0, 0, 0, 0, 0, 0, 0, 0, 0, 0, 0, 0, 0, 0, 0, 0, 0, 0, 0, 0, 0, 0, 0, 0, 0, 0, 0, 0, 0, 0, 0, 0, 1, 1, 1, 1, 1, 1, 1, 1, 1, 1, 1, 1, 1, 1, 1, 1, 1, 1, 1, 1, 1, 1, 1, 1, 1, 1, 1, 1, 1, 1, 1, 1, 1, 1, 1, 1, 1, 1, 1, 1, 1, 1, 1, 1, 1, 1, 1, 1, 1, 1, 1, 1, 1, 1, 1, 1, 1, 1, 1, 1, 1, 1, 1, 1, 1, 1, 1, 1, 1, 1, 1, 1, 1, 1, 1, 1, 1, 1, 1, 1, 1, 1, 1, 1, 1, 1, 1, 1, 1, 1, 1, 1, 1, 1, 1, 1, 1, 1, 1, 1, 1, 1, 1, 1, 1, 1, 1, 1, 1, 1, 1, 1, 1, 1, 1, 1, 1, 1, 1, 1, 1, 1, 1, 1, 1, 1, 1, 1, 1, 1, 1, 1, 1, 1, 1, 1, 1, 1, 1, 1, 1, 1, 1, 1, 1, 1, 1, 1, 1, 1, 1, 1, 1, 1, 1, 1, 1, 1, 1, 1, 1, 1, 1, 1, 1, 1, 1, 1, 1, 1, 1, 1, 1, 1, 1, 1, 1, 1, 1, 1, 1, 1, 1, 1, 1, 1, 1, 1, 1, 1, 1, 1, 1, 1, 1, 1, 1, 1, 1, 1, 1, 1]\n"
     ]
    }
   ],
   "source": [
    "#prob_list_q = prob_list[::-1] # simple reversal does not work, reversing needs to be done at coeff level \n",
    "#can add the threshold here to indicate 1 above p = .7 and 0 if not  --creating a list then plot below\n",
    "\n",
    "loan_YN=[]\n",
    "for i in range (len(prob_list)):\n",
    "    \n",
    "    if prob_list[i] > 0.7:\n",
    "        loan_YN.append(1)\n",
    "    else:\n",
    "        loan_YN.append(0)\n",
    "print (loan_YN)\n",
    "  \n"
   ]
  },
  {
   "cell_type": "code",
   "execution_count": 29,
   "metadata": {
    "collapsed": false
   },
   "outputs": [],
   "source": [
    "#creating a prob list that gives 1-q\n",
    "def ir_prob_finder_q(x):\n",
    "    lin_ir_list_q =[]\n",
    "    x=500\n",
    "    for i in range (400):\n",
    "        lin_ir_list_q.append(logistic_function(ir_calc(x, 10000)*-1)) #probably appended in reverse order\n",
    "        #ir_calc *-1 reverses the sign of coeff and calculates the values for 1-p or q\n",
    "        #lin_ir_list_q.append(ir_calc(x, 10000))  creates a list of int_rest values to be passed on to logistic_fxn\n",
    "        x +=1\n",
    "    #print(lin_ir_list)\n",
    "    return lin_ir_list_q\n",
    "prob_list_q=[]\n",
    "prob_list_q=ir_prob_finder_q(500) #reversing the order of list\n",
    "prob_list_q=prob_list_q[::-1]\n",
    "#print(prob_list_q)"
   ]
  },
  {
   "cell_type": "code",
   "execution_count": 30,
   "metadata": {
    "collapsed": false
   },
   "outputs": [
    {
     "data": {
      "image/png": "[encoded data removed]",
      "text/plain": [
       "<matplotlib.figure.Figure at 0x13b8cc68080>"
      ]
     },
     "metadata": {},
     "output_type": "display_data"
    }
   ],
   "source": [
    "#printing a graph\n",
    "#fig = plt.figure()\n",
    "#plt.plot_date(x=Date_list, y=Value_list)\n",
    "#plt.show()\n",
    "fico=[]\n",
    "fico =(loansData['FICO.Range'].dropna())\n",
    "import matplotlib.pyplot as plt\n",
    "fig = plt.figure\n",
    "plt.plot(range(550, 950), prob_list)\n",
    "plt.plot(range(550, 950), prob_list_q) # simple reversal  doesnot work, reversing needs to be done at coeff level\n",
    "#plt.plot(loan_YN, prob_list)\n",
    "plt.plot(range(550, 950), loan_YN)\n",
    "plt.show()\n",
    "\n",
    "\n"
   ]
  },
  {
   "cell_type": "code",
   "execution_count": null,
   "metadata": {
    "collapsed": true
   },
   "outputs": [],
   "source": []
  }
 ],
 "metadata": {
  "anaconda-cloud": {},
  "kernelspec": {
   "display_name": "Python [conda root]",
   "language": "python",
   "name": "conda-root-py"
  },
  "language_info": {
   "codemirror_mode": {
    "name": "ipython",
    "version": 3
   },
   "file_extension": ".py",
   "mimetype": "text/x-python",
   "name": "python",
   "nbconvert_exporter": "python",
   "pygments_lexer": "ipython3",
   "version": "3.5.2"
  }
 },
 "nbformat": 4,
 "nbformat_minor": 1
}
